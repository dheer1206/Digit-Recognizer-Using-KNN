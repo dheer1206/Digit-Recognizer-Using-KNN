{
 "cells": [
  {
   "cell_type": "markdown",
   "metadata": {},
   "source": [
    "## Making the necessary imports"
   ]
  },
  {
   "cell_type": "code",
   "execution_count": 1,
   "metadata": {},
   "outputs": [],
   "source": [
    "import pandas as pd\n",
    "import numpy as np\n",
    "\n",
    "from collections import Counter\n",
    "\n",
    "from sklearn.model_selection import train_test_split\n",
    "\n",
    "import matplotlib.pyplot as plt\n",
    "import matplotlib.image as myimg\n",
    "%matplotlib inline"
   ]
  },
  {
   "cell_type": "markdown",
   "metadata": {},
   "source": [
    "## Reading and Manipulating Data"
   ]
  },
  {
   "cell_type": "code",
   "execution_count": 2,
   "metadata": {},
   "outputs": [],
   "source": [
    "train_data = pd.read_csv(\"train.csv\", encoding = \"UTF-8\")\n",
    "test_data = pd.read_csv(\"test.csv\", encoding = \"UTF-8\")"
   ]
  },
  {
   "cell_type": "code",
   "execution_count": 3,
   "metadata": {},
   "outputs": [
    {
     "data": {
      "text/plain": [
       "((42000, 785), (28000, 784))"
      ]
     },
     "execution_count": 3,
     "metadata": {},
     "output_type": "execute_result"
    }
   ],
   "source": [
    "train_data.shape , test_data.shape"
   ]
  },
  {
   "cell_type": "code",
   "execution_count": 4,
   "metadata": {},
   "outputs": [
    {
     "data": {
      "text/html": [
       "<div>\n",
       "<style scoped>\n",
       "    .dataframe tbody tr th:only-of-type {\n",
       "        vertical-align: middle;\n",
       "    }\n",
       "\n",
       "    .dataframe tbody tr th {\n",
       "        vertical-align: top;\n",
       "    }\n",
       "\n",
       "    .dataframe thead th {\n",
       "        text-align: right;\n",
       "    }\n",
       "</style>\n",
       "<table border=\"1\" class=\"dataframe\">\n",
       "  <thead>\n",
       "    <tr style=\"text-align: right;\">\n",
       "      <th></th>\n",
       "      <th>label</th>\n",
       "      <th>pixel0</th>\n",
       "      <th>pixel1</th>\n",
       "      <th>pixel2</th>\n",
       "      <th>pixel3</th>\n",
       "      <th>pixel4</th>\n",
       "      <th>pixel5</th>\n",
       "      <th>pixel6</th>\n",
       "      <th>pixel7</th>\n",
       "      <th>pixel8</th>\n",
       "      <th>...</th>\n",
       "      <th>pixel774</th>\n",
       "      <th>pixel775</th>\n",
       "      <th>pixel776</th>\n",
       "      <th>pixel777</th>\n",
       "      <th>pixel778</th>\n",
       "      <th>pixel779</th>\n",
       "      <th>pixel780</th>\n",
       "      <th>pixel781</th>\n",
       "      <th>pixel782</th>\n",
       "      <th>pixel783</th>\n",
       "    </tr>\n",
       "  </thead>\n",
       "  <tbody>\n",
       "    <tr>\n",
       "      <th>0</th>\n",
       "      <td>1</td>\n",
       "      <td>0</td>\n",
       "      <td>0</td>\n",
       "      <td>0</td>\n",
       "      <td>0</td>\n",
       "      <td>0</td>\n",
       "      <td>0</td>\n",
       "      <td>0</td>\n",
       "      <td>0</td>\n",
       "      <td>0</td>\n",
       "      <td>...</td>\n",
       "      <td>0</td>\n",
       "      <td>0</td>\n",
       "      <td>0</td>\n",
       "      <td>0</td>\n",
       "      <td>0</td>\n",
       "      <td>0</td>\n",
       "      <td>0</td>\n",
       "      <td>0</td>\n",
       "      <td>0</td>\n",
       "      <td>0</td>\n",
       "    </tr>\n",
       "    <tr>\n",
       "      <th>1</th>\n",
       "      <td>0</td>\n",
       "      <td>0</td>\n",
       "      <td>0</td>\n",
       "      <td>0</td>\n",
       "      <td>0</td>\n",
       "      <td>0</td>\n",
       "      <td>0</td>\n",
       "      <td>0</td>\n",
       "      <td>0</td>\n",
       "      <td>0</td>\n",
       "      <td>...</td>\n",
       "      <td>0</td>\n",
       "      <td>0</td>\n",
       "      <td>0</td>\n",
       "      <td>0</td>\n",
       "      <td>0</td>\n",
       "      <td>0</td>\n",
       "      <td>0</td>\n",
       "      <td>0</td>\n",
       "      <td>0</td>\n",
       "      <td>0</td>\n",
       "    </tr>\n",
       "    <tr>\n",
       "      <th>2</th>\n",
       "      <td>1</td>\n",
       "      <td>0</td>\n",
       "      <td>0</td>\n",
       "      <td>0</td>\n",
       "      <td>0</td>\n",
       "      <td>0</td>\n",
       "      <td>0</td>\n",
       "      <td>0</td>\n",
       "      <td>0</td>\n",
       "      <td>0</td>\n",
       "      <td>...</td>\n",
       "      <td>0</td>\n",
       "      <td>0</td>\n",
       "      <td>0</td>\n",
       "      <td>0</td>\n",
       "      <td>0</td>\n",
       "      <td>0</td>\n",
       "      <td>0</td>\n",
       "      <td>0</td>\n",
       "      <td>0</td>\n",
       "      <td>0</td>\n",
       "    </tr>\n",
       "    <tr>\n",
       "      <th>3</th>\n",
       "      <td>4</td>\n",
       "      <td>0</td>\n",
       "      <td>0</td>\n",
       "      <td>0</td>\n",
       "      <td>0</td>\n",
       "      <td>0</td>\n",
       "      <td>0</td>\n",
       "      <td>0</td>\n",
       "      <td>0</td>\n",
       "      <td>0</td>\n",
       "      <td>...</td>\n",
       "      <td>0</td>\n",
       "      <td>0</td>\n",
       "      <td>0</td>\n",
       "      <td>0</td>\n",
       "      <td>0</td>\n",
       "      <td>0</td>\n",
       "      <td>0</td>\n",
       "      <td>0</td>\n",
       "      <td>0</td>\n",
       "      <td>0</td>\n",
       "    </tr>\n",
       "    <tr>\n",
       "      <th>4</th>\n",
       "      <td>0</td>\n",
       "      <td>0</td>\n",
       "      <td>0</td>\n",
       "      <td>0</td>\n",
       "      <td>0</td>\n",
       "      <td>0</td>\n",
       "      <td>0</td>\n",
       "      <td>0</td>\n",
       "      <td>0</td>\n",
       "      <td>0</td>\n",
       "      <td>...</td>\n",
       "      <td>0</td>\n",
       "      <td>0</td>\n",
       "      <td>0</td>\n",
       "      <td>0</td>\n",
       "      <td>0</td>\n",
       "      <td>0</td>\n",
       "      <td>0</td>\n",
       "      <td>0</td>\n",
       "      <td>0</td>\n",
       "      <td>0</td>\n",
       "    </tr>\n",
       "  </tbody>\n",
       "</table>\n",
       "<p>5 rows × 785 columns</p>\n",
       "</div>"
      ],
      "text/plain": [
       "   label  pixel0  pixel1  pixel2  pixel3  pixel4  pixel5  pixel6  pixel7  \\\n",
       "0      1       0       0       0       0       0       0       0       0   \n",
       "1      0       0       0       0       0       0       0       0       0   \n",
       "2      1       0       0       0       0       0       0       0       0   \n",
       "3      4       0       0       0       0       0       0       0       0   \n",
       "4      0       0       0       0       0       0       0       0       0   \n",
       "\n",
       "   pixel8    ...     pixel774  pixel775  pixel776  pixel777  pixel778  \\\n",
       "0       0    ...            0         0         0         0         0   \n",
       "1       0    ...            0         0         0         0         0   \n",
       "2       0    ...            0         0         0         0         0   \n",
       "3       0    ...            0         0         0         0         0   \n",
       "4       0    ...            0         0         0         0         0   \n",
       "\n",
       "   pixel779  pixel780  pixel781  pixel782  pixel783  \n",
       "0         0         0         0         0         0  \n",
       "1         0         0         0         0         0  \n",
       "2         0         0         0         0         0  \n",
       "3         0         0         0         0         0  \n",
       "4         0         0         0         0         0  \n",
       "\n",
       "[5 rows x 785 columns]"
      ]
     },
     "execution_count": 4,
     "metadata": {},
     "output_type": "execute_result"
    }
   ],
   "source": [
    "train_data.head()"
   ]
  },
  {
   "cell_type": "code",
   "execution_count": 5,
   "metadata": {},
   "outputs": [],
   "source": [
    "\n",
    "#Slicing the DATA\n",
    "\n",
    "train_features = np.array(train_data)[:,1:]\n",
    "labels = np.array(train_data)[:,:1]\n",
    "\n",
    "test_features = np.array(test_data)"
   ]
  },
  {
   "cell_type": "code",
   "execution_count": 6,
   "metadata": {},
   "outputs": [
    {
     "data": {
      "text/plain": [
       "((42000, 784), (42000, 1), (28000, 784))"
      ]
     },
     "execution_count": 6,
     "metadata": {},
     "output_type": "execute_result"
    }
   ],
   "source": [
    "train_features.shape , labels.shape , test_features.shape"
   ]
  },
  {
   "cell_type": "code",
   "execution_count": 7,
   "metadata": {},
   "outputs": [],
   "source": [
    "\n",
    "#Scaling The Features\n",
    "\n",
    "train_features = train_features * ( 1.0 / 255.0 )\n",
    "test_features = test_features * ( 1.0 / 255.0 )\n"
   ]
  },
  {
   "cell_type": "code",
   "execution_count": 8,
   "metadata": {},
   "outputs": [],
   "source": [
    "train_features[train_features > 0.0] = 1.0\n",
    "test_features[test_features > 0.0] = 1.0"
   ]
  },
  {
   "cell_type": "code",
   "execution_count": 9,
   "metadata": {},
   "outputs": [],
   "source": [
    "#Splitting the DATA\n",
    "\n",
    "x_train , x_test , y_train, y_test = train_test_split( train_features , labels , test_size = 0.25, random_state = 12 )\n"
   ]
  },
  {
   "cell_type": "code",
   "execution_count": 10,
   "metadata": {},
   "outputs": [
    {
     "data": {
      "text/plain": [
       "(((31500, 784), (10500, 784)), ((31500, 1), (10500, 1)))"
      ]
     },
     "execution_count": 10,
     "metadata": {},
     "output_type": "execute_result"
    }
   ],
   "source": [
    "(x_train.shape , x_test.shape) , ( y_train.shape , y_test.shape ) "
   ]
  },
  {
   "cell_type": "markdown",
   "metadata": {},
   "source": [
    "## Plotting Some Data"
   ]
  },
  {
   "cell_type": "code",
   "execution_count": 11,
   "metadata": {},
   "outputs": [
    {
     "data": {
      "image/png": "[encoded data removed]",
      "text/plain": [
       "<matplotlib.figure.Figure at 0x7f52d81c9048>"
      ]
     },
     "metadata": {},
     "output_type": "display_data"
    }
   ],
   "source": [
    "\n",
    "fig = plt.figure(figsize=(12,12))\n",
    "\n",
    "#Let's Plot 9 images from the training set\n",
    "\n",
    "rows , columns = 3 , 3\n",
    "\n",
    "for i in range(1,10) :\n",
    "    \n",
    "    image = train_features[i]\n",
    "    \n",
    "    image_resized = np.resize(image , (28,28) )\n",
    "    \n",
    "    fig.add_subplot(rows , columns , i)\n",
    "    \n",
    "    plt.imshow( image_resized , cmap = 'gray' )\n",
    "    \n",
    "    plt.title(\"This is \" + str(labels[i][0]))\n",
    "    \n",
    "    "
   ]
  },
  {
   "cell_type": "markdown",
   "metadata": {},
   "source": [
    "## Creating The Model"
   ]
  },
  {
   "cell_type": "code",
   "execution_count": 12,
   "metadata": {},
   "outputs": [],
   "source": [
    "class KNN() :\n",
    "    \n",
    "    def __init__(self,number_of_neighbours = 1) :\n",
    "        #Storing the number of neighbours or K\n",
    "        self.number_of_neighbours = number_of_neighbours\n",
    "    \n",
    "    #Training the Model\n",
    "    def train(self,x_train,y_train) :\n",
    "        self.x_train = x_train \n",
    "        self.y_train = y_train\n",
    "    \n",
    "    #Compute The Distances array\n",
    "    #Distances array Contains the difference of this image from all other images in the training set\n",
    "    def computeDistances(self,test) :\n",
    "        \n",
    "        #Here We'll use the L2 Distance or the Euclidean Distance\n",
    "        \n",
    "        #First We'll subtract the matrices\n",
    "        difference = self.x_train - test\n",
    "        \n",
    "        #Then We'll square the difference matrix\n",
    "        squared_difference = np.square( difference )\n",
    "        \n",
    "        #Then We'll add the squared_difference matrix rowwise\n",
    "        summed_square_difference = np.sum( squared_difference , axis = 1 )\n",
    "        \n",
    "        #Finally We'll take the square Root\n",
    "        differences = np.sqrt(summed_square_difference)\n",
    "        \n",
    "        return differences\n",
    "    \n",
    "    \n",
    "    def predict(self,x_test) :\n",
    "        \n",
    "        num_test = x_test.shape[0]\n",
    "        \n",
    "        final_output = np.zeros(num_test)\n",
    "        \n",
    "        for i in range(num_test) :\n",
    "            \n",
    "            #Getting the differences array\n",
    "            differences = self.computeDistances( x_test[i] )\n",
    "            \n",
    "            #Sorting The differences array in reverse order\n",
    "            sorted_differences = np.argsort( differences )\n",
    "            \n",
    "            #Slicing the first K(number_of_neighbours) values from the differences array\n",
    "            first_k_differences = sorted_differences[ :self.number_of_neighbours ]\n",
    "            \n",
    "            #Getting the output Labels of each element in differences array\n",
    "            labels = self.y_train[first_k_differences]\n",
    "            \n",
    "            #Dictionary Storing the count of each digit or label\n",
    "            count_dict = Counter(labels[:,0])\n",
    "            \n",
    "            #Now We Need to find the most repated label out of these K-labels \n",
    "            #If there are multiple labels with the same count , then\n",
    "            #We select the one which appears first in the labels list\n",
    "            \n",
    "            #Maxi stores the count of label that occurs maximum times\n",
    "            maxi = 0 \n",
    "            #The Selected Label\n",
    "            selected_digit = None\n",
    "            \n",
    "            for j in range(self.number_of_neighbours) :\n",
    "                \n",
    "                label = labels[j][0]\n",
    "                \n",
    "                if count_dict[label] > maxi :\n",
    "                    maxi = count_dict[label]\n",
    "                    selected_digit = label\n",
    "            \n",
    "            final_output[i] = selected_digit\n",
    "            \n",
    "        return list(final_output)        \n",
    "            \n",
    "            \n",
    "    "
   ]
  },
  {
   "cell_type": "code",
   "execution_count": 13,
   "metadata": {},
   "outputs": [],
   "source": [
    "model = KNN(5)\n",
    "model.train(x_train,y_train)"
   ]
  },
  {
   "cell_type": "code",
   "execution_count": 14,
   "metadata": {},
   "outputs": [
    {
     "name": "stdout",
     "output_type": "stream",
     "text": [
      "1050\n",
      "Batch  1  Completed in  202.541303\n",
      "Batch  2  Completed in  201.75740900000002\n",
      "Batch  3  Completed in  228.10725200000002\n",
      "Batch  4  Completed in  163.64475700000003\n",
      "Batch  5  Completed in  163.26614200000006\n",
      "Batch  6  Completed in  163.40864599999998\n",
      "Batch  7  Completed in  164.43357100000003\n",
      "Batch  8  Completed in  196.011616\n",
      "Batch  9  Completed in  187.40975700000013\n",
      "Batch  10  Completed in  163.29520100000013\n"
     ]
    }
   ],
   "source": [
    "batch = int(x_test.shape[0]/10)\n",
    "\n",
    "print (batch)\n",
    "\n",
    "y_prediction = []\n",
    "\n",
    "import time\n",
    "\n",
    "for i in range(10) :\n",
    "    \n",
    "    start = time.clock()\n",
    "    model_output = model.predict( x_test[ batch*i : batch*(i+1)  , :  ] )\n",
    "    \n",
    "    y_prediction = y_prediction + model_output\n",
    "    \n",
    "    end = time.clock() \n",
    "    print (\"Batch \", i+1, \" Completed in \", str(end-start))\n",
    "    \n",
    "    \n",
    "    \n",
    "    "
   ]
  },
  {
   "cell_type": "code",
   "execution_count": 15,
   "metadata": {},
   "outputs": [
    {
     "name": "stdout",
     "output_type": "stream",
     "text": [
      "Accuracy on Test Set =  96.37142857142858 % .\n"
     ]
    }
   ],
   "source": [
    "#Calclating the Accuracy on test set\n",
    "y_test = y_test.astype('float32')\n",
    "print (\"Accuracy on Test Set = \" , np.mean( y_prediction == y_test.flatten() )*100,\"% .\")"
   ]
  },
  {
   "cell_type": "markdown",
   "metadata": {},
   "source": [
    "## Kaggle Submission"
   ]
  },
  {
   "cell_type": "code",
   "execution_count": 16,
   "metadata": {},
   "outputs": [
    {
     "data": {
      "text/plain": [
       "(((42000, 784), (42000, 1)), (28000, 784))"
      ]
     },
     "execution_count": 16,
     "metadata": {},
     "output_type": "execute_result"
    }
   ],
   "source": [
    "(train_features.shape , labels.shape) , (test_features.shape)"
   ]
  },
  {
   "cell_type": "code",
   "execution_count": 17,
   "metadata": {},
   "outputs": [],
   "source": [
    "final_model = KNN(5) \n",
    "final_model.train( train_features, labels )"
   ]
  },
  {
   "cell_type": "code",
   "execution_count": 18,
   "metadata": {},
   "outputs": [
    {
     "name": "stdout",
     "output_type": "stream",
     "text": [
      "Batch  1  Completed in  338.1551710000001\n",
      "Batch  2  Completed in  351.3323009999999\n",
      "Batch  3  Completed in  312.59869400000025\n",
      "Batch  4  Completed in  340.39309200000025\n",
      "Batch  5  Completed in  317.85014900000033\n",
      "Batch  6  Completed in  318.0745890000003\n",
      "Batch  7  Completed in  325.86080800000036\n",
      "Batch  8  Completed in  329.68717300000026\n",
      "Batch  9  Completed in  289.32939499999975\n",
      "Batch  10  Completed in  280.26929500000006\n",
      "Batch  11  Completed in  280.31603300000006\n",
      "Batch  12  Completed in  283.58661699999993\n",
      "Batch  13  Completed in  325.20196899999974\n",
      "Batch  14  Completed in  314.3012320000007\n",
      "Batch  15  Completed in  322.73543400000017\n",
      "Batch  16  Completed in  315.87663900000007\n",
      "Batch  17  Completed in  356.7010389999996\n",
      "Batch  18  Completed in  358.7456910000001\n",
      "Batch  19  Completed in  377.7184609999995\n",
      "Batch  20  Completed in  383.57970900000055\n"
     ]
    }
   ],
   "source": [
    "batch = int(test_features.shape[0]/20)\n",
    "\n",
    "final_output = []\n",
    "\n",
    "for i in range(20) :\n",
    "    \n",
    "    start = time.clock()\n",
    "    \n",
    "    model_output = final_model.predict( test_features[ batch*i : batch*(i+1)  , :  ] )\n",
    "    \n",
    "    final_output = final_output + model_output\n",
    "    \n",
    "    end = time.clock() \n",
    "    \n",
    "    print (\"Batch \", i+1, \" Completed in \", str(end-start))"
   ]
  },
  {
   "cell_type": "code",
   "execution_count": 25,
   "metadata": {},
   "outputs": [],
   "source": [
    "final_prediction = [ int(value) for value in final_output ]"
   ]
  },
  {
   "cell_type": "code",
   "execution_count": 26,
   "metadata": {},
   "outputs": [],
   "source": [
    "im_id = np.linspace(1,28000,28000).astype('int64')\n",
    "df = pd.DataFrame(final_output,im_id,columns=['Label'])\n",
    "df.to_csv(\"prediction_updated.csv\", index_label = ['ImageId'])"
   ]
  },
  {
   "cell_type": "markdown",
   "metadata": {},
   "source": [
    "### The accuracy of our prediction = 96.400%"
   ]
  }
 ],
 "metadata": {
  "kernelspec": {
   "display_name": "Python 3",
   "language": "python",
   "name": "python3"
  },
  "language_info": {
   "codemirror_mode": {
    "name": "ipython",
    "version": 3
   },
   "file_extension": ".py",
   "mimetype": "text/x-python",
   "name": "python",
   "nbconvert_exporter": "python",
   "pygments_lexer": "ipython3",
   "version": "3.5.2"
  }
 },
 "nbformat": 4,
 "nbformat_minor": 2
}
